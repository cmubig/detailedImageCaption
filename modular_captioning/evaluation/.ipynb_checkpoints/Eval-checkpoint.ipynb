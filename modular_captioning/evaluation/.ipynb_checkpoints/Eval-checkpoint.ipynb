{
 "cells": [
  {
   "cell_type": "code",
   "execution_count": 1,
   "metadata": {},
   "outputs": [
    {
     "name": "stdout",
     "output_type": "stream",
     "text": [
      "import success\n"
     ]
    }
   ],
   "source": [
    "from random import*\n",
    "from IPython.display import clear_output\n",
    "import os\n",
    "#%matplotlib inline\n",
    "import matplotlib.pyplot as plt\n",
    "import matplotlib.image as mpimg\n",
    "import pickle \n",
    "import collections\n",
    "print('import success')"
   ]
  },
  {
   "cell_type": "code",
   "execution_count": 2,
   "metadata": {},
   "outputs": [
    {
     "name": "stdout",
     "output_type": "stream",
     "text": [
      "load success\n"
     ]
    }
   ],
   "source": [
    "# read data files\n",
    "hypo = {}\n",
    "with open('./captions/model_v16_hypo.txt','r') as f:  \n",
    "    for line in f:\n",
    "        if line != '\\n':\n",
    "            hypo[int(line.split('>')[0])] = line.split('[')[1].split(']')[0]\n",
    "baseline = {}\n",
    "with open('./captions/model_v16_baseline.txt','r') as f:  \n",
    "    for line in f:\n",
    "        if line != '\\n':\n",
    "            baseline[int(line.split('>')[0])] = line.split('[')[1].split(']')[0]\n",
    "ref = {}\n",
    "with open('./captions/model_v16_ref.txt','r') as f:  \n",
    "    for line in f:\n",
    "        if line != '\\n':\n",
    "            ref[int(line.split('>')[0])] = line.split('[')[1].split(']')[0]\n",
    "            \n",
    "with open('./karparthy_eval/val.file.names.pkl','rb') as f:\n",
    "    file_names = pickle.load(f)\n",
    "print('load success')"
   ]
  },
  {
   "cell_type": "code",
   "execution_count": 5,
   "metadata": {},
   "outputs": [
    {
     "name": "stdout",
     "output_type": "stream",
     "text": [
      "{'grey', 'small', 'red', 'purple', 'giant', 'orange', 'four', 'brown', 'green', 'large', 'single', 'tall', 'yellow', 'blue', 'gray', 'lone', 'five', 'pair', 'tiny', 'one', 'two', 'black', 'huge', 'gold', 'white', 'dark', 'colorful', 'three', 'couple', 'big'}\n",
      "subset contains 3087 images\n"
     ]
    }
   ],
   "source": [
    "# prepare a subset\n",
    "color = ['white','black','red','blue','green','brown','yellow','orange','colorful','gray','dark','purple','grey','gold']\n",
    "size = ['large','small','big','tall','huge','giant','tiny']\n",
    "count = ['one','two','three','four','five','couple','pair','single','lone']\n",
    "spatial = ['top','front','side','close','inside','back','high','underneath','left','center','mid','nearby','atop','low','alongside'\n",
    "           ,'beneath', 'bottom']\n",
    "dict_set = set(count + color + size)\n",
    "print(dict_set)\n",
    "temp = []\n",
    "subset = []\n",
    "for cnt,gts in ref.items():\n",
    "    for gt in gts.split(','):\n",
    "        if dict_set.intersection(gt.strip(' ').strip('\\'').strip('.').strip(' ').split(' ')) != set():\n",
    "            temp.append(cnt)\n",
    "            break\n",
    "for i in temp:\n",
    "    if hypo[i] != baseline[i]:\n",
    "        subset.append(i)\n",
    "print('subset contains {} images'.format(len(subset)))"
   ]
  },
  {
   "cell_type": "code",
   "execution_count": 12,
   "metadata": {},
   "outputs": [
    {
     "name": "stdout",
     "output_type": "stream",
     "text": [
      "baseline: %0.35, module: %0.55, equal: %0.1\n"
     ]
    }
   ],
   "source": [
    "## randomly select num_test sentences from the evaluation set (subset)\n",
    "# an image and five captions are given\n",
    "# type 1 or 2 to indicate which sentence better describes the image\n",
    "# type 3 to indicate a draw (equally bad or good), type 'exit' to exit the program\n",
    "# press 'enter' to confirm your answer \n",
    "# press 'enter' again to go to the next question\n",
    "# guidelines: \n",
    "# which sentence gives more information? \n",
    "# which sentence gives the best guess or can be better justified if not correct?\n",
    "# gramma if the first two are equal. \n",
    "# image is the first reference and the ground truths are the second.\n",
    "num_test = 20\n",
    "#-------------------------------------------------------------------------------------\n",
    "equal = 0\n",
    "base = 0\n",
    "module = 0\n",
    "# uncomment this line and comment the next line to test over the whole evaluation set\n",
    "#index = list(range(0,5000)); \n",
    "index = subset;\n",
    "shuffle(index)\n",
    "for i in range(num_test):\n",
    "    print('{}/{}'.format(i,num_test))\n",
    "    caps = [hypo[index[i]],baseline[index[i]]]\n",
    "    switch = randint(0,1)\n",
    "    img = os.path.join('./karparthy_eval',file_names[index[i]].split('\\\\')[2])\n",
    "    img=mpimg.imread(img)\n",
    "    plt.imshow(img)\n",
    "    plt.axis('off')\n",
    "    plt.show()\n",
    "    for gt in ref[index[i]].split(','):\n",
    "        print('GT: '+gt)\n",
    "    print('\\n1: ' + caps[switch])\n",
    "    print('2: ' + caps[abs(switch-1)])\n",
    "    ans=input(\"Which of the description is better?\")\n",
    "    if ans == '1':\n",
    "        if switch == 0: module +=1\n",
    "        else: base += 1\n",
    "    elif ans == '2':\n",
    "        if switch == 0: base +=1\n",
    "        else: module += 1\n",
    "    elif ans == 'exit': break\n",
    "    else: equal += 1\n",
    "    #if switch == 0:print('1:module, 2:baseline')\n",
    "    #else:print('1:baseline, 2:module')\n",
    "    input(\"Press Enter to continue...\")\n",
    "    clear_output()\n",
    "print('baseline: %{}, module: %{}, equal: %{}'.format(base/num_test,module/num_test,equal/num_test))"
   ]
  }
 ],
 "metadata": {
  "kernelspec": {
   "display_name": "Python [conda env:anaconda3]",
   "language": "python",
   "name": "conda-env-anaconda3-py"
  },
  "language_info": {
   "codemirror_mode": {
    "name": "ipython",
    "version": 3
   },
   "file_extension": ".py",
   "mimetype": "text/x-python",
   "name": "python",
   "nbconvert_exporter": "python",
   "pygments_lexer": "ipython3",
   "version": "3.6.3"
  }
 },
 "nbformat": 4,
 "nbformat_minor": 2
}
